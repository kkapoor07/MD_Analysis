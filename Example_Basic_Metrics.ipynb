{
 "cells": [
  {
   "cell_type": "code",
   "execution_count": null,
   "metadata": {},
   "outputs": [],
   "source": [
    "# # Example: Calculating Basic MD Analysis Metrics\n",
    "\n",
    "# This notebook demonstrates how to use functions from the `md_analysis_tools` library to calculate fundamental metrics often analyzed from molecular dynamics trajectories:\n",
    "# \n",
    "# *   **Distances:** Between specific atoms or groups over time.\n",
    "# *   **RMSF:** Root Mean Square Fluctuation per atom/residue.\n",
    "# *   **Rg:** Radius of Gyration over time.\n",
    "# *   **RMSD:** Root Mean Square Deviation relative to a reference structure.\n",
    "# \n",
    "# **Workflow:**\n",
    "# 1. Import libraries.\n",
    "# 2. Load simulation data (topology/trajectory).\n",
    "# 3. Define selections and parameters for each analysis.\n",
    "# 4. Call the corresponding functions from `md_analysis_tools`.\n",
    "# 5. Plot the results (e.g., metrics vs. time or residue).\n"
   ]
  },
  {
   "cell_type": "code",
   "execution_count": null,
   "metadata": {},
   "outputs": [],
   "source": [
    "# Import necessary libraries\n",
    "import md_analysis_tools # Our custom library\n",
    "import MDAnalysis as mda\n",
    "import numpy as np\n",
    "import pandas as pd\n",
    "import matplotlib.pyplot as plt\n",
    "import os\n",
    "import sys # For checking errors\n",
    "\n",
    "# Configure plotting style (optional)\n",
    "plt.style.use('seaborn-v0_8-poster')\n"
   ]
  },
  {
   "cell_type": "code",
   "execution_count": null,
   "metadata": {},
   "outputs": [],
   "source": [
    "# ## 1. Load Simulation Data\n",
    "\n",
    "# We need the topology and trajectory files for the simulation we want to analyze. For RMSD calculations, we also need a reference structure file.\n",
    "\n",
    "# **ACTION:** Replace placeholder paths with your actual file paths.\n"
   ]
  },
  {
   "cell_type": "code",
   "execution_count": null,
   "metadata": {},
   "outputs": [],
   "source": [
    "# --- User Input: Define File Paths ---\n",
    "topology_file = \"placeholder.prmtop\"    # <-- REPLACE with your topology file\n",
    "trajectory_file = \"placeholder.dcd\"      # <-- REPLACE with your trajectory file\n",
    "reference_pdb_file = \"placeholder_ref.pdb\" # <-- REPLACE with your reference PDB (for RMSD)\n",
    "output_dir = \"basic_metrics_output\"     # Directory to save results\n",
    "\n",
    "# Create output directory\n",
    "os.makedirs(output_dir, exist_ok=True)\n",
    "\n",
    "# --- Load Universe ---\n",
    "print(f\"Loading trajectory...\")\n",
    "u = None\n",
    "try:\n",
    "    if not os.path.exists(topology_file) or not os.path.exists(trajectory_file):\n",
    "         raise FileNotFoundError(f\"Ensure topology ('{topology_file}') and trajectory ('{trajectory_file}') files exist.\")\n",
    "    u = mda.Universe(topology_file, trajectory_file)\n",
    "    print(f\"Successfully loaded Trajectory Universe with {len(u.trajectory)} frames.\")\n",
    "except Exception as e:\n",
    "    print(f\"Error loading Trajectory Universe: {e}\", file=sys.stderr)\n",
    "    # Decide if you want to exit if loading fails\n",
    "    # exit()\n",
    "\n",
    "# --- Load Reference Universe (for RMSD) ---\n",
    "u_ref = None\n",
    "print(f\"\\nLoading reference structure...\")\n",
    "try:\n",
    "    if not os.path.exists(reference_pdb_file):\n",
    "        raise FileNotFoundError(f\"Reference PDB file ('{reference_pdb_file}') not found.\")\n",
    "    u_ref = mda.Universe(reference_pdb_file)\n",
    "    print(f\"Successfully loaded Reference Universe.\")\n",
    "except Exception as e:\n",
    "    print(f\"Error loading Reference Universe: {e}\", file=sys.stderr)\n",
    "    print(\"RMSD calculation relative to reference will be skipped.\")\n",
    "\n"
   ]
  },
  {
   "cell_type": "code",
   "execution_count": null,
   "metadata": {},
   "outputs": [],
   "source": [
    "# ## 2. Calculate Distances\n",
    "\n",
    "# We use `calculate_distances` to measure the distance between specified pairs of atom groups (or single atoms) over time. Define pairs using MDAnalysis selection strings.\n"
   ]
  },
  {
   "cell_type": "code",
   "execution_count": null,
   "metadata": {},
   "outputs": [],
   "source": [
    "# --- Define Distance Pairs ---\n",
    "# Example pairs (REPLACE with selections relevant to your system):\n",
    "# Pair 1: C-alpha distance between residue 10 and 50\n",
    "# Pair 2: COM distance between protein chain A and a ligand named LIG\n",
    "# Pair 3: Distance between atom O in residue 20 and atom N in residue 25\n",
    "selection_pairs_for_dist = [\n",
    "    (\"resid 10 and name CA\", \"resid 50 and name CA\"),\n",
    "    (\"protein and chainID A\", \"resname LIG\"),\n",
    "    (\"resid 20 and name O\", \"resid 25 and name N\") \n",
    "]\n",
    "\n",
    "# --- Calculate Distances ---\n",
    "df_distances = None\n",
    "if u: # Only proceed if trajectory universe loaded\n",
    "    print(\"\\nCalculating distances...\")\n",
    "    df_distances = md_analysis_tools.calculate_distances(\n",
    "        universe=u,\n",
    "        selection_pairs=selection_pairs_for_dist,\n",
    "        # Optional: Adjust frame range/step\n",
    "        # start_frame=0, stop_frame=-1, step=10 \n",
    "    )\n",
    "\n",
    "    if df_distances is not None:\n",
    "        print(\"\\nDistance calculation summary:\")\n",
    "        print(df_distances.head())\n",
    "        # Save results\n",
    "        dist_out_file = os.path.join(output_dir, \"distances.csv\")\n",
    "        df_distances.to_csv(dist_out_file, index=False)\n",
    "        print(f\"Saved distances to {dist_out_file}\")\n",
    "    else:\n",
    "        print(\"Distance calculation failed.\", file=sys.stderr)\n"
   ]
  },
  {
   "cell_type": "code",
   "execution_count": null,
   "metadata": {},
   "outputs": [],
   "source": [
    "# ### Plot Distances vs. Time\n"
   ]
  },
  {
   "cell_type": "code",
   "execution_count": null,
   "metadata": {},
   "outputs": [],
   "source": [
    "# --- Plot Distances ---\n",
    "if df_distances is not None:\n",
    "    print(\"\\nPlotting distances...\")\n",
    "    plt.figure(figsize=(12, 6))\n",
    "    \n",
    "    # Plot each distance column (skip the 'Frame' column)\n",
    "    for col in df_distances.columns[1:]:\n",
    "        plt.plot(df_distances['Frame'], df_distances[col], label=col, alpha=0.8)\n",
    "        \n",
    "    plt.title('Distances Over Time')\n",
    "    plt.xlabel('Frame Index')\n",
    "    plt.ylabel('Distance (Å)')\n",
    "    plt.legend(loc='center left', bbox_to_anchor=(1, 0.5)) # Legend outside plot\n",
    "    plt.grid(True, linestyle=':')\n",
    "    plt.tight_layout(rect=[0, 0, 0.85, 1]) # Adjust layout for legend\n",
    "    plt.savefig(os.path.join(output_dir, \"distances_plot.png\"), dpi=300)\n",
    "    plt.show()\n",
    "else:\n",
    "    print(\"Skipping distance plotting.\")\n"
   ]
  },
  {
   "cell_type": "code",
   "execution_count": null,
   "metadata": {},
   "outputs": [],
   "source": [
    "# ## 3. Calculate Radius of Gyration (Rg)\n",
    "\n",
    "# We use `calculate_radius_of_gyration` to measure the overall compactness of a selected group (e.g., the whole protein C-alphas) over time.\n"
   ]
  },
  {
   "cell_type": "code",
   "execution_count": null,
   "metadata": {},
   "outputs": [],
   "source": [
    "# --- Define Rg Selection ---\n",
    "rg_selection = \"protein and name CA\" # Selection for Rg calculation\n",
    "\n",
    "# --- Calculate Rg ---\n",
    "df_rg = None\n",
    "if u:\n",
    "    print(f\"\\nCalculating Radius of Gyration (Rg) for selection: '{rg_selection}'...\")\n",
    "    df_rg = md_analysis_tools.calculate_radius_of_gyration(\n",
    "        universe=u,\n",
    "        selection=rg_selection,\n",
    "        # Optional: Adjust frame range/step\n",
    "        # start_frame=0, stop_frame=-1, step=10\n",
    "    )\n",
    "\n",
    "    if df_rg is not None:\n",
    "        print(\"\\nRg calculation summary:\")\n",
    "        print(df_rg.head())\n",
    "        # Save results\n",
    "        rg_out_file = os.path.join(output_dir, \"radius_of_gyration.csv\")\n",
    "        df_rg.to_csv(rg_out_file, index=False)\n",
    "        print(f\"Saved Rg to {rg_out_file}\")\n",
    "    else:\n",
    "        print(\"Rg calculation failed.\", file=sys.stderr)\n"
   ]
  },
  {
   "cell_type": "code",
   "execution_count": null,
   "metadata": {},
   "outputs": [],
   "source": [
    "# ### Plot Rg vs. Time\n"
   ]
  },
  {
   "cell_type": "code",
   "execution_count": null,
   "metadata": {},
   "outputs": [],
   "source": [
    "# --- Plot Rg ---\n",
    "if df_rg is not None:\n",
    "    print(\"\\nPlotting Radius of Gyration...\")\n",
    "    plt.figure(figsize=(12, 5))\n",
    "    plt.plot(df_rg['Frame'], df_rg['Rg'], label=rg_selection)\n",
    "    plt.title('Radius of Gyration Over Time')\n",
    "    plt.xlabel('Frame Index')\n",
    "    plt.ylabel('Radius of Gyration (Å)')\n",
    "    plt.legend()\n",
    "    plt.grid(True, linestyle=':')\n",
    "    plt.tight_layout()\n",
    "    plt.savefig(os.path.join(output_dir, \"radius_of_gyration_plot.png\"), dpi=300)\n",
    "    plt.show()\n",
    "else:\n",
    "    print(\"Skipping Rg plotting.\")\n"
   ]
  },
  {
   "cell_type": "code",
   "execution_count": null,
   "metadata": {},
   "outputs": [],
   "source": [
    "# ## 4. Calculate Root Mean Square Fluctuation (RMSF)\n",
    "\n",
    "# We use `calculate_rmsf` to determine the fluctuation of each atom in a selection around its average position after aligning the trajectory. This indicates flexibility.\n"
   ]
  },
  {
   "cell_type": "code",
   "execution_count": null,
   "metadata": {},
   "outputs": [],
   "source": [
    "# --- Define RMSF Selections ---\n",
    "rmsf_selection = \"protein and name CA\" # Atoms for RMSF calculation\n",
    "rmsf_align_selection = \"protein and name CA\" # Atoms for alignment (or None to skip align)\n",
    "\n",
    "# --- Calculate RMSF ---\n",
    "df_rmsf = None\n",
    "if u:\n",
    "    print(f\"\\nCalculating RMSF for selection: '{rmsf_selection}'...\")\n",
    "    # Note: calculate_rmsf returns a DataFrame directly now\n",
    "    df_rmsf = md_analysis_tools.calculate_rmsf(\n",
    "        universe=u,\n",
    "        selection=rmsf_selection,\n",
    "        align=(rmsf_align_selection is not None),\n",
    "        align_selection=rmsf_align_selection,\n",
    "        # Optional: Adjust frame range/step\n",
    "        # start_frame=100, stop_frame=-1, step=5 # Example: skip equilibration\n",
    "    )\n",
    "\n",
    "    if df_rmsf is not None:\n",
    "        print(\"\\nRMSF calculation summary:\")\n",
    "        print(df_rmsf.head())\n",
    "        # Save results\n",
    "        rmsf_out_file = os.path.join(output_dir, \"rmsf_results.csv\")\n",
    "        df_rmsf.to_csv(rmsf_out_file, index=False)\n",
    "        print(f\"Saved RMSF to {rmsf_out_file}\")\n",
    "    else:\n",
    "        print(\"RMSF calculation failed.\", file=sys.stderr)\n"
   ]
  },
  {
   "cell_type": "code",
   "execution_count": null,
   "metadata": {},
   "outputs": [],
   "source": [
    "# ### Plot RMSF vs. Residue\n"
   ]
  },
  {
   "cell_type": "code",
   "execution_count": null,
   "metadata": {},
   "outputs": [],
   "source": [
    "# --- Plot RMSF ---\n",
    "if df_rmsf is not None:\n",
    "    print(\"\\nPlotting RMSF...\")\n",
    "    plt.figure(figsize=(12, 5))\n",
    "    # Use Residue ID (Resid) or Residue Number (Resnum) for x-axis as available\n",
    "    x_axis = 'Resid' if 'Resid' in df_rmsf.columns else 'Resnum' \n",
    "    plt.plot(df_rmsf[x_axis], df_rmsf['RMSF'], marker='.', linestyle='-', label=rmsf_selection)\n",
    "    # Or use a bar plot\n",
    "    # plt.bar(df_rmsf[x_axis], df_rmsf['RMSF'], width=0.8, label=rmsf_selection)\n",
    "    plt.title('RMSF per Residue')\n",
    "    plt.xlabel('Residue Identifier') # Use identifier as it could be Resid or Resnum\n",
    "    plt.ylabel('RMSF (Å)')\n",
    "    plt.legend()\n",
    "    plt.grid(True, linestyle=':')\n",
    "    plt.tight_layout()\n",
    "    plt.savefig(os.path.join(output_dir, \"rmsf_plot.png\"), dpi=300)\n",
    "    plt.show()\n",
    "else:\n",
    "    print(\"Skipping RMSF plotting.\")\n"
   ]
  },
  {
   "cell_type": "code",
   "execution_count": null,
   "metadata": {},
   "outputs": [],
   "source": [
    "# ## 5. Calculate Root Mean Square Deviation (RMSD)\n",
    "\n",
    "# We use `calculate_rmsd_relative_to_ref` to measure the deviation of the trajectory structures from a given reference structure, after alignment.\n"
   ]
  },
  {
   "cell_type": "code",
   "execution_count": null,
   "metadata": {},
   "outputs": [],
   "source": [
    "# --- Define RMSD Selections ---\n",
    "rmsd_selection = \"protein and name CA\" # Atoms for RMSD calculation\n",
    "rmsd_align_selection = \"protein and name CA\" # Atoms for alignment (or None to use rmsd_selection)\n",
    "\n",
    "# --- Calculate RMSD ---\n",
    "df_rmsd = None\n",
    "if u and u_ref: # Only proceed if both universes loaded\n",
    "    print(f\"\\nCalculating RMSD relative to '{reference_pdb_file}'...\")\n",
    "    df_rmsd = md_analysis_tools.calculate_rmsd_relative_to_ref(\n",
    "        universe=u,\n",
    "        reference_universe=u_ref,\n",
    "        selection=rmsd_selection,\n",
    "        align_selection=rmsd_align_selection,\n",
    "        # Optional: Adjust frame range/step\n",
    "        # start_frame=0, stop_frame=-1, step=10\n",
    "    )\n",
    "\n",
    "    if df_rmsd is not None:\n",
    "        print(\"\\nRMSD calculation summary:\")\n",
    "        print(df_rmsd.head())\n",
    "        # Save results\n",
    "        rmsd_out_file = os.path.join(output_dir, \"rmsd_results.csv\")\n",
    "        df_rmsd.to_csv(rmsd_out_file, index=False)\n",
    "        print(f\"Saved RMSD to {rmsd_out_file}\")\n",
    "    else:\n",
    "        print(\"RMSD calculation failed.\", file=sys.stderr)\n",
    "elif not u:\n",
    "     print(\"\\nSkipping RMSD calculation because trajectory Universe failed to load.\", file=sys.stderr)\n",
    "elif not u_ref:\n",
    "     print(\"\\nSkipping RMSD calculation because Reference Universe failed to load.\", file=sys.stderr)\n",
    "\n"
   ]
  },
  {
   "cell_type": "code",
   "execution_count": null,
   "metadata": {},
   "outputs": [],
   "source": [
    "# ### Plot RMSD vs. Time\n"
   ]
  },
  {
   "cell_type": "code",
   "execution_count": null,
   "metadata": {},
   "outputs": [],
   "source": [
    "# --- Plot RMSD ---\n",
    "if df_rmsd is not None:\n",
    "    print(\"\\nPlotting RMSD...\")\n",
    "    plt.figure(figsize=(12, 5))\n",
    "    plt.plot(df_rmsd['Frame'], df_rmsd['RMSD'], label=f\"RMSD to {os.path.basename(reference_pdb_file)}\")\n",
    "    plt.title('RMSD Over Time')\n",
    "    plt.xlabel('Frame Index')\n",
    "    plt.ylabel('RMSD (Å)')\n",
    "    plt.legend()\n",
    "    plt.grid(True, linestyle=':')\n",
    "    plt.tight_layout()\n",
    "    plt.savefig(os.path.join(output_dir, \"rmsd_plot.png\"), dpi=300)\n",
    "    plt.show()\n",
    "else:\n",
    "    print(\"Skipping RMSD plotting.\")\n",
    "\n"
   ]
  },
  {
   "cell_type": "code",
   "execution_count": null,
   "metadata": {},
   "outputs": [],
   "source": [
    "#%% md"
   ]
  }
 ],
 "metadata": {
  "language_info": {
   "codemirror_mode": {
    "name": "ipython",
    "version": 3
   },
   "file_extension": ".py",
   "mimetype": "text/x-python",
   "name": "python",
   "nbconvert_exporter": "python",
   "pygments_lexer": "ipython3",
   "version": 3
  }
 },
 "nbformat": 4,
 "nbformat_minor": 2
}
